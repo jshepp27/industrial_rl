{
 "cells": [
  {
   "cell_type": "code",
   "execution_count": 38,
   "metadata": {
    "collapsed": true
   },
   "outputs": [],
   "source": [
    "\"https://towardsdatascience.com/q-learning-algorithm-from-explanation-to-implementation-cdbeda2ea187\"\n",
    "\n",
    "# Frozen Lake\n",
    "import numpy as np\n",
    "import gym"
   ]
  },
  {
   "cell_type": "code",
   "execution_count": 14,
   "outputs": [],
   "source": [
    "# Init Environment\n",
    "env = gym.make(\"FrozenLake-v1\")\n",
    "\n",
    "# Spaces - Observation, Actions Spaces\n",
    "n_observations = env.observation_space.n\n",
    "n_actions = env.action_space.n"
   ],
   "metadata": {
    "collapsed": false,
    "pycharm": {
     "name": "#%%\n"
    }
   }
  },
  {
   "cell_type": "code",
   "execution_count": 15,
   "outputs": [
    {
     "name": "stdout",
     "output_type": "stream",
     "text": [
      "[[0. 0. 0. 0.]\n",
      " [0. 0. 0. 0.]\n",
      " [0. 0. 0. 0.]\n",
      " [0. 0. 0. 0.]\n",
      " [0. 0. 0. 0.]\n",
      " [0. 0. 0. 0.]\n",
      " [0. 0. 0. 0.]\n",
      " [0. 0. 0. 0.]\n",
      " [0. 0. 0. 0.]\n",
      " [0. 0. 0. 0.]\n",
      " [0. 0. 0. 0.]\n",
      " [0. 0. 0. 0.]\n",
      " [0. 0. 0. 0.]\n",
      " [0. 0. 0. 0.]\n",
      " [0. 0. 0. 0.]\n",
      " [0. 0. 0. 0.]]\n"
     ]
    }
   ],
   "source": [
    "# Init Q-Table\n",
    "Q_table = np.zeros((n_observations, n_actions))\n",
    "print(Q_table)"
   ],
   "metadata": {
    "collapsed": false,
    "pycharm": {
     "name": "#%%\n"
    }
   }
  },
  {
   "cell_type": "code",
   "execution_count": 34,
   "outputs": [],
   "source": [
    "# Hyper-Parameters\n",
    "n_episodes = 10000\n",
    "max_iter_episode = 100\n",
    "\n",
    "# Policy: Exploration Pr\n",
    "exploration_proba = 1\n",
    "\n",
    "# Exploration Decreasing Decay (Exponent)\n",
    "exploration_decay = 0.001\n",
    "\n",
    "# Minimum Exploration Pr\n",
    "min_exploration_proba = 0.01\n",
    "\n",
    "# Discount Factor\n",
    "gamma = 0.99\n",
    "\n",
    "# Learning Rate\n",
    "lr = 0.1"
   ],
   "metadata": {
    "collapsed": false,
    "pycharm": {
     "name": "#%%\n"
    }
   }
  },
  {
   "cell_type": "code",
   "execution_count": 41,
   "outputs": [],
   "source": [
    "# Cumulative Reward Gained, Buffer\n",
    "total_rewards_episode = []\n",
    "rewards_per_episode = []"
   ],
   "metadata": {
    "collapsed": false,
    "pycharm": {
     "name": "#%%\n"
    }
   }
  },
  {
   "cell_type": "code",
   "execution_count": 42,
   "outputs": [],
   "source": [
    "\n",
    "for e in range(n_episodes):\n",
    "    #we initialize the first state of the episode\n",
    "    current_state = env.reset()\n",
    "    done = False\n",
    "\n",
    "    #sum the rewards that the agent gets from the environment\n",
    "    total_episode_reward = 0\n",
    "\n",
    "    for i in range(max_iter_episode):\n",
    "        # we sample a float from a uniform distribution over 0 and 1\n",
    "        # if the sampled flaot is less than the exploration proba\n",
    "        #     the agent selects arandom action\n",
    "        # else\n",
    "        #     he exploits his knowledge using the bellman equation\n",
    "\n",
    "        if np.random.uniform(0,1) < exploration_proba:\n",
    "            action = env.action_space.sample()\n",
    "        else:\n",
    "            action = np.argmax(Q_table[current_state,:])\n",
    "\n",
    "        # The environment runs the chosen action and returns\n",
    "        # the next state, a reward and true if the epiosed is ended.\n",
    "        next_state, reward, done, _ = env.step(action)\n",
    "\n",
    "        # We update our Q-table using the Q-learning iteration\n",
    "        Q_table[current_state, action] = (1-lr) * Q_table[current_state, action] +lr*(reward + gamma*max(Q_table[next_state,:]))\n",
    "        total_episode_reward = total_episode_reward + reward\n",
    "        # If the episode is finished, we leave the for loop\n",
    "        if done:\n",
    "            break\n",
    "        current_state = next_state\n",
    "    #We update the exploration proba using exponential decay formula\n",
    "    exploration_proba = max(min_exploration_proba, np.exp(-exploration_decay*e))\n",
    "    rewards_per_episode.append(total_episode_reward)"
   ],
   "metadata": {
    "collapsed": false,
    "pycharm": {
     "name": "#%%\n"
    }
   }
  },
  {
   "cell_type": "code",
   "execution_count": 43,
   "outputs": [
    {
     "data": {
      "text/plain": "array([[0.53437561, 0.50575093, 0.50424347, 0.49891269],\n       [0.37774105, 0.32679333, 0.16347998, 0.47596745],\n       [0.41714317, 0.42612608, 0.40297041, 0.45379536],\n       [0.19844046, 0.28950976, 0.36762011, 0.44897566],\n       [0.55891589, 0.42411352, 0.3318498 , 0.33258503],\n       [0.        , 0.        , 0.        , 0.        ],\n       [0.379557  , 0.16199192, 0.24622596, 0.10870504],\n       [0.        , 0.        , 0.        , 0.        ],\n       [0.43371229, 0.41891474, 0.35715082, 0.59949297],\n       [0.53010299, 0.64924963, 0.47163123, 0.38479404],\n       [0.59780098, 0.39574902, 0.30199831, 0.41091886],\n       [0.        , 0.        , 0.        , 0.        ],\n       [0.        , 0.        , 0.        , 0.        ],\n       [0.5239626 , 0.60793458, 0.76447364, 0.42122991],\n       [0.70122598, 0.91025434, 0.74886541, 0.73256202],\n       [0.        , 0.        , 0.        , 0.        ]])"
     },
     "execution_count": 43,
     "metadata": {},
     "output_type": "execute_result"
    }
   ],
   "source": [
    "Q_table"
   ],
   "metadata": {
    "collapsed": false,
    "pycharm": {
     "name": "#%%\n"
    }
   }
  },
  {
   "cell_type": "code",
   "execution_count": 44,
   "outputs": [
    {
     "name": "stdout",
     "output_type": "stream",
     "text": [
      "Mean reward per thousand episodes\n",
      "1000 : mean espiode reward: 0.05\n",
      "2000 : mean espiode reward: 0.196\n",
      "3000 : mean espiode reward: 0.457\n",
      "4000 : mean espiode reward: 0.624\n",
      "5000 : mean espiode reward: 0.69\n",
      "6000 : mean espiode reward: 0.687\n",
      "7000 : mean espiode reward: 0.7\n",
      "8000 : mean espiode reward: 0.691\n",
      "9000 : mean espiode reward: 0.67\n",
      "10000 : mean espiode reward: 0.676\n"
     ]
    }
   ],
   "source": [
    "print(\"Mean reward per thousand episodes\")\n",
    "for i in range(10):\n",
    "    print((i+1)*1000,\": mean espiode reward:\",\n",
    "           np.mean(rewards_per_episode[1000*i:1000*(i+1)]))"
   ],
   "metadata": {
    "collapsed": false,
    "pycharm": {
     "name": "#%%\n"
    }
   }
  }
 ],
 "metadata": {
  "kernelspec": {
   "display_name": "Python 3",
   "language": "python",
   "name": "python3"
  },
  "language_info": {
   "codemirror_mode": {
    "name": "ipython",
    "version": 2
   },
   "file_extension": ".py",
   "mimetype": "text/x-python",
   "name": "python",
   "nbconvert_exporter": "python",
   "pygments_lexer": "ipython2",
   "version": "2.7.6"
  }
 },
 "nbformat": 4,
 "nbformat_minor": 0
}