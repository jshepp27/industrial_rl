{
 "cells": [
  {
   "cell_type": "markdown",
   "source": [
    "# State-Action-Value Function (Q-Function)"
   ],
   "metadata": {
    "collapsed": false
   }
  },
  {
   "cell_type": "markdown",
   "source": [
    "How does an agent decide what to do? How does an agent know how good her actions have been and evaluate her current situation in the environment? How does she decide what action to take?"
   ],
   "metadata": {
    "collapsed": false,
    "pycharm": {
     "name": "#%% md\n"
    }
   }
  },
  {
   "cell_type": "markdown",
   "source": [
    "The Action-Value Function returns the expected return given a state and an action choice. Therefore, the action-value function represents an extra dimension compared to the State-Value function.\n",
    "\n",
    "In order to determine an expected return, the learning system must iterate over all actions as well as states. Hence:"
   ],
   "metadata": {
    "collapsed": false,
    "pycharm": {
     "name": "#%% md\n"
    }
   }
  },
  {
   "cell_type": "code",
   "execution_count": 22,
   "outputs": [
    {
     "data": {
      "image/png": "[encoded data removed]",
      "text/plain": "<IPython.core.display.Image object>"
     },
     "execution_count": 22,
     "metadata": {},
     "output_type": "execute_result"
    }
   ],
   "source": [
    "from IPython.display import Image\n",
    "Image(\"./figs/action_value_fn.png\")"
   ],
   "metadata": {
    "collapsed": false,
    "pycharm": {
     "name": "#%%\n"
    }
   }
  },
  {
   "cell_type": "markdown",
   "source": [
    "Hence, the difference between the State-Value Function and the Q-Function (State-Action-Value Function) is that the State-Value function specifies the goodness of state, while a Q-Function specifies the goodness of an action in a state. Thus, the Q-Function returns the expected value of taking a given action in a given state.\n",
    "\n",
    "It therefore extends the insight of the agent, enabling the agent to make a decision on which action is optimal, not just the opimtal state.\n",
    "\n",
    "Like State-Value functions, Q-Functions can be viewed in a table, called a Q-Table."
   ],
   "metadata": {
    "collapsed": false,
    "pycharm": {
     "name": "#%% md\n"
    }
   }
  },
  {
   "cell_type": "code",
   "execution_count": 23,
   "outputs": [],
   "source": [
    "# Grid World\n",
    "\n",
    "starting_position = 1\n",
    "cliff_position = 0\n",
    "end_position = 5\n",
    "reward_goal_state = 5\n",
    "reward_cliff = 0\n",
    "\n",
    "def reward(current_position) -> int:\n",
    "    if current_position <= cliff_position:\n",
    "        return reward_cliff\n",
    "\n",
    "    if current_position >= end_position >= end_position:\n",
    "        return reward_goal_state\n",
    "\n",
    "    return 0\n",
    "\n",
    "def is_termination(current_position) -> bool:\n",
    "    # Fallen off the Cliff\n",
    "    if current_position <= cliff_position:\n",
    "        return True\n",
    "\n",
    "    # Achieved Goal\n",
    "    if current_position >= end_position:\n",
    "        return True\n",
    "\n",
    "    return False"
   ],
   "metadata": {
    "collapsed": false,
    "pycharm": {
     "name": "#%%\n"
    }
   }
  },
  {
   "cell_type": "code",
   "execution_count": 8,
   "outputs": [],
   "source": [
    "# Agent (Strategy, Policy)\n",
    "import numpy as np\n",
    "\n",
    "# Chance Strategy\n",
    "def strategy() -> int:\n",
    "    if np.random.random() >= 0.5:\n",
    "        # Move Right [0-5]\n",
    "        return 1\n",
    "    else:\n",
    "        # Move Left [0-5]\n",
    "        return -1"
   ],
   "metadata": {
    "collapsed": false,
    "pycharm": {
     "name": "#%%\n"
    }
   }
  },
  {
   "cell_type": "code",
   "execution_count": 43,
   "outputs": [
    {
     "name": "stdout",
     "output_type": "stream",
     "text": [
      "[0] Average Reward: [nan,5.00,5.00,5.00,5.00,5.00 ; nan,nan,nan,nan,nan,nan]\n",
      "[1] Average Reward: [0.00,3.33,5.00,5.00,5.00,5.00 ; nan,nan,nan,nan,nan,nan]\n",
      "[2] Average Reward: [0.00,2.50,5.00,5.00,5.00,5.00 ; nan,nan,nan,nan,nan,nan]\n",
      "[3] Average Reward: [0.00,2.50,5.00,5.00,5.00,5.00 ; 0.00,0.00,nan,nan,nan,nan]\n",
      "[4] Average Reward: [0.00,1.67,3.75,5.00,5.00,5.00 ; 0.00,0.00,nan,nan,nan,nan]\n",
      "[5] Average Reward: [0.00,1.43,3.75,5.00,5.00,5.00 ; 0.00,0.00,nan,nan,nan,nan]\n",
      "[6] Average Reward: [0.00,1.43,3.75,5.00,5.00,5.00 ; 0.00,0.00,nan,nan,nan,nan]\n",
      "[7] Average Reward: [0.00,1.43,3.75,5.00,5.00,5.00 ; 0.00,0.00,0.00,nan,nan,nan]\n",
      "[8] Average Reward: [0.00,1.43,3.75,5.00,5.00,5.00 ; 0.00,0.00,0.00,0.00,nan,nan]\n",
      "[9] Average Reward: [0.00,1.25,3.75,5.00,5.00,5.00 ; 0.00,0.00,0.00,0.00,nan,nan]\n",
      "[10] Average Reward: [0.00,1.25,3.75,5.00,5.00,5.00 ; 0.00,0.00,0.00,0.00,nan,nan]\n",
      "[11] Average Reward: [0.00,1.25,3.75,5.00,5.00,5.00 ; 0.00,0.00,0.00,0.00,nan,nan]\n",
      "[12] Average Reward: [0.00,1.25,3.75,5.00,5.00,5.00 ; 0.00,0.83,1.43,2.50,5.00,5.00]\n",
      "[13] Average Reward: [0.00,1.25,3.75,5.00,5.00,5.00 ; 0.00,0.71,1.25,2.50,5.00,5.00]\n",
      "[14] Average Reward: [0.00,1.11,3.75,5.00,5.00,5.00 ; 0.00,0.71,1.25,2.50,5.00,5.00]\n",
      "[15] Average Reward: [0.00,1.00,3.75,5.00,5.00,5.00 ; 0.00,0.71,1.25,2.50,5.00,5.00]\n",
      "[16] Average Reward: [0.00,1.00,3.75,5.00,5.00,5.00 ; 0.00,0.67,1.25,2.50,5.00,5.00]\n",
      "[17] Average Reward: [0.00,2.14,4.44,5.00,5.00,5.00 ; 0.00,0.67,1.25,2.50,5.00,5.00]\n",
      "[18] Average Reward: [0.00,2.00,4.44,5.00,5.00,5.00 ; 0.00,0.67,1.25,2.50,5.00,5.00]\n",
      "[19] Average Reward: [0.00,1.76,3.64,4.29,5.00,5.00 ; 0.00,0.67,1.25,2.50,5.00,5.00]\n",
      "[20] Average Reward: [0.00,1.94,3.85,4.50,5.00,5.00 ; 0.00,0.67,1.25,2.50,5.00,5.00]\n",
      "[21] Average Reward: [0.00,1.94,3.85,4.50,5.00,5.00 ; 0.00,0.62,1.25,2.50,5.00,5.00]\n",
      "[22] Average Reward: [0.00,1.94,3.85,4.50,5.00,5.00 ; 0.00,0.59,1.25,2.50,5.00,5.00]\n",
      "[23] Average Reward: [0.00,1.84,3.85,4.50,5.00,5.00 ; 0.00,0.59,1.25,2.50,5.00,5.00]\n",
      "[24] Average Reward: [0.00,1.52,2.94,4.09,5.00,5.00 ; 0.00,0.59,1.25,2.50,5.00,5.00]\n",
      "[25] Average Reward: [0.00,1.46,2.94,4.09,5.00,5.00 ; 0.00,0.59,1.25,2.50,5.00,5.00]\n",
      "[26] Average Reward: [0.00,1.46,2.94,4.09,5.00,5.00 ; 0.00,0.83,1.67,3.33,5.00,5.00]\n",
      "[27] Average Reward: [0.00,1.60,3.06,4.17,5.00,5.00 ; 0.00,0.83,1.67,3.33,5.00,5.00]\n",
      "[28] Average Reward: [0.00,1.54,3.06,4.17,5.00,5.00 ; 0.00,0.83,1.67,3.33,5.00,5.00]\n",
      "[29] Average Reward: [0.00,1.48,3.06,4.17,5.00,5.00 ; 0.00,0.83,1.67,3.33,5.00,5.00]\n",
      "[30] Average Reward: [0.00,1.48,3.06,4.17,5.00,5.00 ; 0.00,0.71,1.36,3.33,5.00,5.00]\n",
      "[31] Average Reward: [0.00,1.43,3.06,4.17,5.00,5.00 ; 0.00,0.71,1.36,3.33,5.00,5.00]\n",
      "[32] Average Reward: [0.00,1.43,3.06,4.17,5.00,5.00 ; 0.00,0.68,1.36,3.33,5.00,5.00]\n",
      "[33] Average Reward: [0.00,1.43,3.06,4.17,5.00,5.00 ; 0.00,0.60,1.07,2.50,5.00,5.00]\n",
      "[34] Average Reward: [0.00,1.38,3.06,4.17,5.00,5.00 ; 0.00,0.60,1.07,2.50,5.00,5.00]\n",
      "[35] Average Reward: [0.00,1.38,3.06,4.17,5.00,5.00 ; 0.00,0.56,1.00,2.50,5.00,5.00]\n",
      "[36] Average Reward: [0.00,1.38,3.06,4.17,5.00,5.00 ; 0.00,0.54,1.00,2.50,5.00,5.00]\n",
      "[37] Average Reward: [0.00,1.33,3.06,4.17,5.00,5.00 ; 0.00,0.54,1.00,2.50,5.00,5.00]\n",
      "[38] Average Reward: [0.00,1.33,3.06,4.17,5.00,5.00 ; 0.00,0.52,1.00,2.50,5.00,5.00]\n",
      "[39] Average Reward: [0.00,1.33,3.06,4.17,5.00,5.00 ; 0.00,0.44,0.60,0.83,2.50,5.00]\n",
      "[40] Average Reward: [0.00,1.33,3.06,4.17,5.00,5.00 ; 0.00,0.69,0.93,1.15,3.00,5.00]\n",
      "[41] Average Reward: [0.00,1.29,3.06,4.17,5.00,5.00 ; 0.00,0.69,0.93,1.15,3.00,5.00]\n",
      "[42] Average Reward: [0.00,1.29,3.06,4.17,5.00,5.00 ; 0.00,0.92,1.33,1.67,3.33,5.00]\n",
      "[43] Average Reward: [0.00,1.29,3.06,4.17,5.00,5.00 ; 0.00,0.90,1.33,1.67,3.33,5.00]\n",
      "[44] Average Reward: [0.00,1.18,2.62,3.85,5.00,5.00 ; 0.00,0.90,1.33,1.67,3.33,5.00]\n",
      "[45] Average Reward: [0.00,1.18,2.62,3.85,5.00,5.00 ; 0.00,1.10,1.76,2.22,3.57,5.00]\n",
      "[46] Average Reward: [0.00,1.18,2.62,3.85,5.00,5.00 ; 0.00,1.07,1.76,2.22,3.57,5.00]\n",
      "[47] Average Reward: [0.00,1.14,2.62,3.85,5.00,5.00 ; 0.00,1.07,1.76,2.22,3.57,5.00]\n",
      "[48] Average Reward: [0.00,1.35,2.83,3.93,5.00,5.00 ; 0.00,1.07,1.76,2.22,3.57,5.00]\n",
      "[49] Average Reward: [0.00,1.35,2.83,3.93,5.00,5.00 ; 0.00,1.05,1.76,2.22,3.57,5.00]\n",
      "[50] Average Reward: [0.00,1.28,2.71,3.93,5.00,5.00 ; 0.00,1.05,1.76,2.22,3.57,5.00]\n",
      "[51] Average Reward: [0.00,1.28,2.71,3.93,5.00,5.00 ; 0.00,1.02,1.76,2.22,3.57,5.00]\n",
      "[52] Average Reward: [0.00,1.28,2.71,3.93,5.00,5.00 ; 0.00,1.35,2.32,2.83,3.89,5.00]\n",
      "[53] Average Reward: [0.00,1.38,2.88,4.06,5.00,5.00 ; 0.00,1.35,2.32,2.83,3.89,5.00]\n",
      "[54] Average Reward: [0.00,1.38,2.88,4.06,5.00,5.00 ; 0.00,1.30,2.26,2.83,3.89,5.00]\n",
      "[55] Average Reward: [0.00,1.38,2.88,4.06,5.00,5.00 ; 0.00,1.37,2.33,2.92,4.00,5.00]\n",
      "[56] Average Reward: [0.00,1.38,2.88,4.06,5.00,5.00 ; 0.00,1.44,2.39,3.00,4.09,5.00]\n",
      "[57] Average Reward: [0.00,1.38,2.88,4.06,5.00,5.00 ; 0.00,1.42,2.39,3.00,4.09,5.00]\n",
      "[58] Average Reward: [0.00,1.34,2.88,4.06,5.00,5.00 ; 0.00,1.42,2.39,3.00,4.09,5.00]\n",
      "[59] Average Reward: [0.00,1.34,2.88,4.06,5.00,5.00 ; 0.00,1.39,2.39,3.00,4.09,5.00]\n",
      "[60] Average Reward: [0.00,1.25,2.68,4.06,5.00,5.00 ; 0.00,1.39,2.39,3.00,4.09,5.00]\n",
      "[61] Average Reward: [0.00,1.25,2.68,4.06,5.00,5.00 ; 0.00,1.36,2.39,3.00,4.09,5.00]\n",
      "[62] Average Reward: [0.00,1.41,2.97,4.21,5.00,5.00 ; 0.00,1.36,2.39,3.00,4.09,5.00]\n",
      "[63] Average Reward: [0.00,1.41,2.97,4.21,5.00,5.00 ; 0.00,1.29,2.28,3.00,4.09,5.00]\n",
      "[64] Average Reward: [0.00,1.38,2.97,4.21,5.00,5.00 ; 0.00,1.29,2.28,3.00,4.09,5.00]\n",
      "[65] Average Reward: [0.00,1.38,2.97,4.21,5.00,5.00 ; 0.00,1.25,2.19,2.88,4.09,5.00]\n",
      "[66] Average Reward: [0.00,1.46,3.03,4.29,5.00,5.00 ; 0.00,1.25,2.19,2.88,4.09,5.00]\n",
      "[67] Average Reward: [0.00,1.46,3.03,4.29,5.00,5.00 ; 0.00,1.21,2.14,2.88,4.09,5.00]\n",
      "[68] Average Reward: [0.00,1.40,2.94,4.29,5.00,5.00 ; 0.00,1.21,2.14,2.88,4.09,5.00]\n",
      "[69] Average Reward: [0.00,1.37,2.94,4.29,5.00,5.00 ; 0.00,1.21,2.14,2.88,4.09,5.00]\n",
      "[70] Average Reward: [0.00,1.37,2.94,4.29,5.00,5.00 ; 0.00,1.17,2.10,2.88,4.09,5.00]\n",
      "[71] Average Reward: [0.00,1.35,2.94,4.29,5.00,5.00 ; 0.00,1.17,2.10,2.88,4.09,5.00]\n",
      "[72] Average Reward: [0.00,1.32,2.94,4.29,5.00,5.00 ; 0.00,1.17,2.10,2.88,4.09,5.00]\n",
      "[73] Average Reward: [0.00,1.45,3.11,4.35,5.00,5.00 ; 0.00,1.17,2.10,2.88,4.09,5.00]\n",
      "[74] Average Reward: [0.00,1.43,3.11,4.35,5.00,5.00 ; 0.00,1.17,2.10,2.88,4.09,5.00]\n",
      "[75] Average Reward: [0.00,1.43,3.11,4.35,5.00,5.00 ; 0.00,1.15,2.10,2.88,4.09,5.00]\n",
      "[76] Average Reward: [0.00,1.43,3.11,4.35,5.00,5.00 ; 0.00,1.21,2.26,3.17,4.23,5.00]\n",
      "[77] Average Reward: [0.00,1.40,3.11,4.35,5.00,5.00 ; 0.00,1.21,2.26,3.17,4.23,5.00]\n",
      "[78] Average Reward: [0.00,1.38,3.11,4.35,5.00,5.00 ; 0.00,1.21,2.26,3.17,4.23,5.00]\n",
      "[79] Average Reward: [0.00,1.33,3.03,4.35,5.00,5.00 ; 0.00,1.21,2.26,3.17,4.23,5.00]\n",
      "[80] Average Reward: [0.00,1.33,3.03,4.35,5.00,5.00 ; 0.00,1.19,2.26,3.17,4.23,5.00]\n",
      "[81] Average Reward: [0.00,1.33,3.03,4.35,5.00,5.00 ; 0.00,1.18,2.26,3.17,4.23,5.00]\n",
      "[82] Average Reward: [0.00,1.39,3.08,4.38,5.00,5.00 ; 0.00,1.18,2.26,3.17,4.23,5.00]\n",
      "[83] Average Reward: [0.00,1.39,3.08,4.38,5.00,5.00 ; 0.00,1.16,2.26,3.17,4.23,5.00]\n",
      "[84] Average Reward: [0.00,1.45,3.21,4.48,5.00,5.00 ; 0.00,1.16,2.26,3.17,4.23,5.00]\n",
      "[85] Average Reward: [0.00,1.56,3.37,4.56,5.00,5.00 ; 0.00,1.16,2.26,3.17,4.23,5.00]\n",
      "[86] Average Reward: [0.00,1.54,3.37,4.56,5.00,5.00 ; 0.00,1.16,2.26,3.17,4.23,5.00]\n",
      "[87] Average Reward: [0.00,1.59,3.40,4.57,5.00,5.00 ; 0.00,1.16,2.26,3.17,4.23,5.00]\n",
      "[88] Average Reward: [0.00,1.57,3.40,4.57,5.00,5.00 ; 0.00,1.16,2.26,3.17,4.23,5.00]\n",
      "[89] Average Reward: [0.00,1.50,3.27,4.57,5.00,5.00 ; 0.00,1.16,2.26,3.17,4.23,5.00]\n",
      "[90] Average Reward: [0.00,1.40,2.91,4.32,5.00,5.00 ; 0.00,1.16,2.26,3.17,4.23,5.00]\n",
      "[91] Average Reward: [0.00,1.40,2.91,4.32,5.00,5.00 ; 0.00,1.13,2.14,2.71,3.44,5.00]\n",
      "[92] Average Reward: [0.00,1.38,2.91,4.32,5.00,5.00 ; 0.00,1.13,2.14,2.71,3.44,5.00]\n",
      "[93] Average Reward: [0.00,1.43,2.95,4.34,5.00,5.00 ; 0.00,1.13,2.14,2.71,3.44,5.00]\n",
      "[94] Average Reward: [0.00,1.41,2.95,4.34,5.00,5.00 ; 0.00,1.13,2.14,2.71,3.44,5.00]\n",
      "[95] Average Reward: [0.00,1.41,2.95,4.34,5.00,5.00 ; 0.00,1.11,2.14,2.71,3.44,5.00]\n",
      "[96] Average Reward: [0.00,1.41,2.95,4.34,5.00,5.00 ; 0.00,1.10,2.14,2.71,3.44,5.00]\n",
      "[97] Average Reward: [0.00,1.41,2.95,4.34,5.00,5.00 ; 0.00,1.08,2.14,2.71,3.44,5.00]\n",
      "[98] Average Reward: [0.00,1.41,2.95,4.34,5.00,5.00 ; 0.00,1.13,2.24,2.84,3.53,5.00]\n",
      "[99] Average Reward: [0.00,1.41,2.95,4.34,5.00,5.00 ; 0.00,1.09,2.10,2.50,3.00,5.00]\n"
     ]
    },
    {
     "name": "stderr",
     "output_type": "stream",
     "text": [
      "/var/folders/gy/t2nchkdj6dv_9vl5kcnbp7wr0000gp/T/ipykernel_7760/1560399680.py:44: RuntimeWarning: invalid value encountered in true_divide\n",
      "  expected_return_0 = ','.join(f\"{q:.2f}\" for q in value_sum[:, 0] / n_hits[:, 0])\n",
      "/var/folders/gy/t2nchkdj6dv_9vl5kcnbp7wr0000gp/T/ipykernel_7760/1560399680.py:45: RuntimeWarning: invalid value encountered in true_divide\n",
      "  expected_return_1 = ','.join(f\"{q:.2f}\" for q in value_sum[:, 1] / n_hits[:, 1])\n"
     ]
    }
   ],
   "source": [
    "# Run Experiment\n",
    "\n",
    "np.random.seed(42)\n",
    "\n",
    "# Global Buffers\n",
    "# Cumulative Value (Sum)\n",
    "# Action-Value Table (State, Choices)\n",
    "value_sum = np.zeros((end_position + 1, 2))\n",
    "n_hits = np.zeros((end_position + 1, 2))\n",
    "\n",
    "# Return Reward Value, for a given action, in a given state (note, not the Expected Return, over n-trials)\n",
    "# This represents the contemporaneous reward\n",
    "def action_value_mapping(x): return 0 if x == -1 else 1\n",
    "\n",
    "n_iter = 100\n",
    "for i in range(n_iter):\n",
    "    # Postion Log\n",
    "    position_history = []\n",
    "    current_position = starting_position\n",
    "    current_action = strategy()\n",
    "\n",
    "    # Episode (Loop until Termination State == True)\n",
    "    while True:\n",
    "        # Append Position to Log\n",
    "        position_history.append((current_position, current_action))\n",
    "\n",
    "        if is_termination(current_position):\n",
    "            break\n",
    "\n",
    "        # Increment Strategy by and Action; Update position\n",
    "        # ? Why this and not the current action ?\n",
    "        current_position += strategy()\n",
    "\n",
    "    # Take the action; Log Reward\n",
    "    current_reward = reward(current_position)\n",
    "\n",
    "    # Add Reward to Global Buffers; Log - To compute the average at the next Step\n",
    "    for pos, act in position_history:\n",
    "        value_sum[pos, action_value_mapping(act)] += current_reward\n",
    "        # ? Counter: number of visits to a given state and action ?\n",
    "        n_hits[pos, action_value_mapping(act)] += 1\n",
    "\n",
    "    # Compute Expected Value for Given Action and Value\n",
    "    expected_return_0 = ','.join(f\"{q:.2f}\" for q in value_sum[:, 0] / n_hits[:, 0])\n",
    "    expected_return_1 = ','.join(f\"{q:.2f}\" for q in value_sum[:, 1] / n_hits[:, 1])\n",
    "    print(\"[{}] Average Reward: [{} ; {}]\".format(i, expected_return_0, expected_return_1))\n"
   ],
   "metadata": {
    "collapsed": false,
    "pycharm": {
     "name": "#%%\n"
    }
   }
  },
  {
   "cell_type": "code",
   "execution_count": 45,
   "outputs": [
    {
     "data": {
      "text/plain": "array([[  0.,   0.],\n       [110.,  85.],\n       [165., 130.],\n       [165., 105.],\n       [110.,  60.],\n       [ 70.,  50.]])"
     },
     "execution_count": 45,
     "metadata": {},
     "output_type": "execute_result"
    }
   ],
   "source": [
    "# Assert\n",
    "\n",
    "n_hits\n",
    "value_sum"
   ],
   "metadata": {
    "collapsed": false,
    "pycharm": {
     "name": "#%%\n"
    }
   }
  }
 ],
 "metadata": {
  "kernelspec": {
   "display_name": "Python 3",
   "language": "python",
   "name": "python3"
  },
  "language_info": {
   "codemirror_mode": {
    "name": "ipython",
    "version": 2
   },
   "file_extension": ".py",
   "mimetype": "text/x-python",
   "name": "python",
   "nbconvert_exporter": "python",
   "pygments_lexer": "ipython2",
   "version": "2.7.6"
  }
 },
 "nbformat": 4,
 "nbformat_minor": 0
}